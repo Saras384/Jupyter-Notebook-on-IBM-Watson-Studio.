{
 "cells": [
  {
   "cell_type": "markdown",
   "id": "af72aae2-2bc8-421a-9cc7-ebe3bc01a7bf",
   "metadata": {},
   "source": [
    "# My Jupyter Notebook on IBM Watson Studio"
   ]
  },
  {
   "cell_type": "markdown",
   "id": "ab303ec6-114e-4bf6-a0fe-2ceeaf0ec56d",
   "metadata": {
    "jupyter": {
     "outputs_hidden": true
    },
    "tags": []
   },
   "source": [
    "**string SARASWATHIE NAIR**\n",
    "    Clinical Data Analyst"
   ]
  },
  {
   "cell_type": "markdown",
   "id": "72a28425-1c0c-49fe-9f1e-5935b579a2c9",
   "metadata": {
    "tags": []
   },
   "source": [
    "*string I am interested in data science as it allows me to analyse the various data obtained from different people. Also it shows the diversity of monitoring various candidates.*"
   ]
  },
  {
   "cell_type": "markdown",
   "id": "d16e1d4b-5e15-4d9f-8b4f-1c0c20f16e16",
   "metadata": {
    "tags": []
   },
   "source": [
    "## The code will explain how one plus one will equal to two."
   ]
  },
  {
   "cell_type": "markdown",
   "id": "f9f5142a-4b90-4b01-8dd7-00999c12ce2a",
   "metadata": {
    "tags": []
   },
   "source": [
    "In[1]: 1 + 1\n",
    "Out[1]: 2"
   ]
  },
  {
   "cell_type": "markdown",
   "id": "5ca46a07-5acf-4de5-8235-3924b5c7abae",
   "metadata": {},
   "source": [
    "*** Hello\n",
    "-  I would like to be a clinical data scientist\n",
    "1. The module is challenging but interesting.\n"
   ]
  }
 ],
 "metadata": {
  "kernelspec": {
   "display_name": "Python",
   "language": "python",
   "name": "conda-env-python-py"
  },
  "language_info": {
   "codemirror_mode": {
    "name": "ipython",
    "version": 3
   },
   "file_extension": ".py",
   "mimetype": "text/x-python",
   "name": "python",
   "nbconvert_exporter": "python",
   "pygments_lexer": "ipython3",
   "version": "3.7.12"
  }
 },
 "nbformat": 4,
 "nbformat_minor": 5
}
